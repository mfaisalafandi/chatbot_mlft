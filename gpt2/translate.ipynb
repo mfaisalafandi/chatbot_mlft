{
 "cells": [
  {
   "cell_type": "code",
   "execution_count": null,
   "metadata": {
    "execution": {
     "iopub.execute_input": "2025-01-03T15:28:54.862393Z",
     "iopub.status.busy": "2025-01-03T15:28:54.861989Z",
     "iopub.status.idle": "2025-01-03T15:29:01.111688Z",
     "shell.execute_reply": "2025-01-03T15:29:01.110545Z",
     "shell.execute_reply.started": "2025-01-03T15:28:54.862349Z"
    },
    "trusted": true
   },
   "outputs": [],
   "source": [
    "!pip install deep_translator"
   ]
  },
  {
   "cell_type": "code",
   "execution_count": 2,
   "metadata": {
    "_cell_guid": "b1076dfc-b9ad-4769-8c92-a6c4dae69d19",
    "_uuid": "8f2839f25d086af736a60e9eeb907d3b93b6e0e5",
    "execution": {
     "iopub.execute_input": "2025-01-03T15:29:14.575727Z",
     "iopub.status.busy": "2025-01-03T15:29:14.575280Z",
     "iopub.status.idle": "2025-01-03T15:29:15.298167Z",
     "shell.execute_reply": "2025-01-03T15:29:15.297030Z",
     "shell.execute_reply.started": "2025-01-03T15:29:14.575667Z"
    },
    "trusted": true
   },
   "outputs": [],
   "source": [
    "import pandas as pd\n",
    "from deep_translator import GoogleTranslator\n",
    "\n",
    "# Fungsi untuk menerjemahkan teks dari bahasa Inggris ke Indonesia\n",
    "def translate_text(text):\n",
    "    try:\n",
    "        return GoogleTranslator(source='en', target='id').translate(text)\n",
    "    except Exception as e:\n",
    "        print(f\"Error translating text: {text}. Error: {e}\")\n",
    "        return text"
   ]
  },
  {
   "cell_type": "code",
   "execution_count": 3,
   "metadata": {
    "execution": {
     "iopub.execute_input": "2025-01-03T15:29:15.957301Z",
     "iopub.status.busy": "2025-01-03T15:29:15.956680Z",
     "iopub.status.idle": "2025-01-03T15:29:15.964053Z",
     "shell.execute_reply": "2025-01-03T15:29:15.962744Z",
     "shell.execute_reply.started": "2025-01-03T15:29:15.957270Z"
    },
    "trusted": true
   },
   "outputs": [],
   "source": [
    "# Load file CSV\n",
    "def translate_csv(file_path, output_path, start_idx=1, end_idx=5000):\n",
    "    try:\n",
    "        df = pd.read_csv(file_path)\n",
    "\n",
    "        if 'Questions' not in df.columns or 'Answers' not in df.columns:\n",
    "            raise ValueError(\"File CSV harus memiliki kolom 'Question' dan 'Answer'.\")\n",
    "\n",
    "        translated_df = df.copy()\n",
    "\n",
    "        translated_df = translated_df.iloc[start_idx-1:end_idx]\n",
    "\n",
    "        translated_df['Questions'] = translated_df['Questions'].apply(translate_text)\n",
    "        translated_df['Answers'] = translated_df['Answers'].apply(translate_text)\n",
    "\n",
    "        translated_df.to_excel(output_path, index=False)\n",
    "        print(f\"Terjemahan selesai dan disimpan di {output_path}\")\n",
    "\n",
    "    except Exception as e:\n",
    "        print(f\"Terjadi kesalahan: {e}\")"
   ]
  },
  {
   "cell_type": "code",
   "execution_count": null,
   "metadata": {
    "execution": {
     "iopub.execute_input": "2025-01-03T15:30:10.605728Z",
     "iopub.status.busy": "2025-01-03T15:30:10.605374Z",
     "iopub.status.idle": "2025-01-03T15:30:28.068145Z",
     "shell.execute_reply": "2025-01-03T15:30:28.066988Z",
     "shell.execute_reply.started": "2025-01-03T15:30:10.605669Z"
    },
    "trusted": true
   },
   "outputs": [],
   "source": [
    "input_file = './gpt2/dataset/alzhemer/alzhemer.csv' \n",
    "start_idx = 1\n",
    "end_idx = 18000\n",
    "output_file = 'translated_alzhemer.xlsx' \n",
    "translate_csv(input_file, output_file, start_idx=start_idx, end_idx=end_idx)"
   ]
  }
 ],
 "metadata": {
  "kaggle": {
   "accelerator": "none",
   "dataSources": [
    {
     "datasetId": 6418086,
     "sourceId": 10364509,
     "sourceType": "datasetVersion"
    }
   ],
   "dockerImageVersionId": 30822,
   "isGpuEnabled": false,
   "isInternetEnabled": true,
   "language": "python",
   "sourceType": "notebook"
  },
  "kernelspec": {
   "display_name": "base",
   "language": "python",
   "name": "python3"
  },
  "language_info": {
   "codemirror_mode": {
    "name": "ipython",
    "version": 3
   },
   "file_extension": ".py",
   "mimetype": "text/x-python",
   "name": "python",
   "nbconvert_exporter": "python",
   "pygments_lexer": "ipython3",
   "version": "3.12.7"
  }
 },
 "nbformat": 4,
 "nbformat_minor": 4
}
